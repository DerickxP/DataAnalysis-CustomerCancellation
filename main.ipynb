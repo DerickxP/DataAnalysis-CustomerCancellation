{
 "cells": [
  {
   "cell_type": "code",
   "execution_count": null,
   "metadata": {},
   "outputs": [],
   "source": [
    "# importando bibliotecas e criando uma variavel para ler a tabela da empresa.\n",
    "import pandas as pd\n",
    "import plotly.express as  px\n",
    "from sklearn.preprocessing import LabelEncoder\n",
    "\n",
    "\n",
    "tabela_clientes = pd.read_csv(\"cancelamentos.csv\")\n",
    "display(tabela_clientes)"
   ]
  },
  {
   "cell_type": "code",
   "execution_count": null,
   "metadata": {},
   "outputs": [],
   "source": [
    "# Tratando alguns dados dessa tabela, como numeros nulos, e colunas as quais não serão necessarias no momento.\n",
    "tabela_clientes = tabela_clientes.dropna()\n",
    "tabela_clientes = tabela_clientes.drop(\"CustomerID\",  axis= 1)\n",
    "display(tabela_clientes.info())\n"
   ]
  },
  {
   "cell_type": "code",
   "execution_count": null,
   "metadata": {},
   "outputs": [],
   "source": [
    "# Verificando os cancelamentos, a duração dos contratos , os tipos e a porcentagem das assinaturas. \n",
    "display(tabela_clientes[\"cancelou\"].value_counts(normalize=True).map(\"{:.1%}\".format))\n",
    "display(tabela_clientes[\"duracao_contrato\"].value_counts(normalize=True).map(\"{:.1%}\".format))\n",
    "display(tabela_clientes[\"assinatura\"].value_counts(normalize=True).map(\"{:.1%}\".format))\n"
   ]
  },
  {
   "cell_type": "code",
   "execution_count": null,
   "metadata": {},
   "outputs": [],
   "source": [
    "# a partir da verificação anterior vamos criar um media referente a duração dos contratos, e das assinaturas\n",
    "display(tabela_clientes.groupby(\"duracao_contrato\").mean(numeric_only=True))\n",
    "display(tabela_clientes.groupby(\"assinatura\").mean(numeric_only=True))\n"
   ]
  },
  {
   "cell_type": "code",
   "execution_count": null,
   "metadata": {},
   "outputs": [],
   "source": [
    "codificador = LabelEncoder()\n",
    "\n",
    "for coluna in tabela_clientes.columns:\n",
    "    if tabela_clientes[coluna].dtype == \"object\" and coluna:\n",
    "        tabela_clientes[coluna] = codificador.fit_transform(tabela_clientes[coluna])\n",
    "    display(tabela_clientes.groupby(coluna).mean(numeric_only=True))"
   ]
  },
  {
   "cell_type": "code",
   "execution_count": null,
   "metadata": {},
   "outputs": [],
   "source": [
    "# caso fique você não queria visualizar em tabelas, podemos criar graficos também, os quais ajudam mais na hora da analises.\n",
    "# pra isso você irá precisar do Plotly.express.\n",
    "\n",
    "for coluna in tabela_clientes.columns:\n",
    "    grafico = px.histogram(tabela_clientes, x=coluna, color=\"cancelou\")\n",
    "    grafico.show()"
   ]
  },
  {
   "cell_type": "code",
   "execution_count": null,
   "metadata": {},
   "outputs": [],
   "source": [
    "# Apos analisar os graficos podemos perceber em certas colunas uma disparidade nos cancelamentos apos uma certa quantidade de interação\n",
    "# Por exemplo: Pessoas que ligam mais de 5 vezes pro call center eles cancelam\n",
    "# Pessoas que tem mais de 20 dias de atraso também cancelam\n",
    "# Pessoas com mais de 50 anos de idade também cancelam o serviço.\n",
    "\n",
    "# Vamos verificar caso seja solucionado esses problemas a taxa de cancelamento desses clientes.\n",
    "tabela_clientes = tabela_clientes[tabela_clientes[\"ligacoes_callcenter\"]<5]\n",
    "tabela_clientes = tabela_clientes[tabela_clientes[\"dias_atraso\"] <=21]\n",
    "tabela_clientes = tabela_clientes[tabela_clientes[\"idade\"] <=50]\n",
    "\n",
    "\n",
    "display(tabela_clientes[\"cancelou\"].value_counts(normalize=True).map(\"{:.1%}\".format))\n"
   ]
  },
  {
   "cell_type": "code",
   "execution_count": null,
   "metadata": {},
   "outputs": [],
   "source": [
    "# Com isso conseguimos reduzir a taxa de cancelamento dessa empresa para 19.9%"
   ]
  }
 ],
 "metadata": {
  "kernelspec": {
   "display_name": "Python 3",
   "language": "python",
   "name": "python3"
  },
  "language_info": {
   "codemirror_mode": {
    "name": "ipython",
    "version": 3
   },
   "file_extension": ".py",
   "mimetype": "text/x-python",
   "name": "python",
   "nbconvert_exporter": "python",
   "pygments_lexer": "ipython3",
   "version": "3.11.4"
  },
  "orig_nbformat": 4
 },
 "nbformat": 4,
 "nbformat_minor": 2
}
